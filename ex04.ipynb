{
 "cells": [
  {
   "cell_type": "code",
   "execution_count": 1,
   "id": "d7ad8fc3-af4b-4664-b992-aacabcbfc6b6",
   "metadata": {},
   "outputs": [
    {
     "name": "stdout",
     "output_type": "stream",
     "text": [
      "sid                    851     954     1107  1649\n",
      "timestamp                                        \n",
      "2018-01-01 01:00:00 -1000.0 -1000.0 -1000.0   3.0\n",
      "2018-01-01 02:00:00 -1000.0 -1000.0 -1000.0  11.0\n",
      "2018-01-01 03:00:00 -1000.0 -1000.0 -1000.0  11.0\n",
      "2018-01-01 04:00:00 -1000.0 -1000.0 -1000.0   7.0\n",
      "2018-01-01 05:00:00 -1000.0 -1000.0 -1000.0   6.0\n",
      "...                     ...     ...     ...   ...\n",
      "2021-07-31 20:00:00    -1.0    -1.0    -1.0   9.0\n",
      "2021-07-31 21:00:00    -1.0    -1.0    -1.0   8.0\n",
      "2021-07-31 22:00:00    -1.0    -1.0    -1.0   9.0\n",
      "2021-07-31 23:00:00    -1.0    -1.0    -1.0  15.0\n",
      "2021-08-01 00:00:00    -1.0    -1.0    -1.0  11.0\n",
      "\n",
      "[30842 rows x 4 columns]\n"
     ]
    }
   ],
   "source": [
    "import psycopg2\n",
    "import pandas as pd\n",
    "\n",
    "conn=psycopg2.connect(\n",
    "    host=\"163.143.165.141\",\n",
    "    database=\"soramame\",\n",
    "    user=\"test\",\n",
    "    password=\"test@14916\")\n",
    "\n",
    "cur=conn.cursor()\n",
    "cur.execute('select distinct time, sname, pm25 from data order by time asc limit 100')\n",
    "result = cur.fetchall()\n",
    "cur.execute('select distinct sid, sname from station_info limit 4')\n",
    "sresult = cur.fetchall()\n",
    "\n",
    "cur.execute('select time, sname, pm25 from data order by time asc')\n",
    "dresult = cur.fetchall()\n",
    "\n",
    "# Assuming 'result' contains data with a single column\n",
    "df = pd.DataFrame(dresult, columns=['timestamp', 'sname', 'pm25'])\n",
    "sdf = pd.DataFrame(sresult, columns=['sid', 'sname'])\n",
    "\n",
    "conn.commit()\n",
    "cur.close()\n",
    "\n",
    "# print(df)\n",
    "# print(sdf)\n",
    "\n",
    "merged_df = pd.merge(df, sdf, on='sname')\n",
    "# print(merged_df)\n",
    "\n",
    "pivot_merged_df = pd.pivot_table(merged_df, index='timestamp', columns='sid', values='pm25', dropna=False, fill_value='NaN')\n",
    "print(pivot_merged_df)\n",
    "pivot_merged_df.to_csv('result.csv', index=False)"
   ]
  }
 ],
 "metadata": {
  "kernelspec": {
   "display_name": "Python 3 (ipykernel)",
   "language": "python",
   "name": "python3"
  },
  "language_info": {
   "codemirror_mode": {
    "name": "ipython",
    "version": 3
   },
   "file_extension": ".py",
   "mimetype": "text/x-python",
   "name": "python",
   "nbconvert_exporter": "python",
   "pygments_lexer": "ipython3",
   "version": "3.10.12"
  }
 },
 "nbformat": 4,
 "nbformat_minor": 5
}
