{
 "cells": [
  {
   "cell_type": "markdown",
   "id": "9a921167-bb5e-433b-bb16-f2a8d4be960c",
   "metadata": {},
   "source": [
    "# Exercise 3 : Perform ETL on the air pollution CSV data "
   ]
  },
  {
   "cell_type": "markdown",
   "id": "3e094d9a-ad6e-45ce-8bdc-0e4b755a6745",
   "metadata": {},
   "source": [
    "### Step 1 : Read provided csv File which contains pm2.5 values"
   ]
  },
  {
   "cell_type": "code",
   "execution_count": 1,
   "id": "1908cf93-fc63-42dc-a92b-47d7d65ad142",
   "metadata": {},
   "outputs": [],
   "source": [
    "# read  30201130PM25.csv file provided using pandas library\n",
    "\n",
    "import pandas as pd\n",
    "df = pd.read_csv(\"30201130PM25.csv\")"
   ]
  },
  {
   "cell_type": "markdown",
   "id": "000915ff-d6e3-45c8-9aca-21ba48c8857c",
   "metadata": {},
   "source": [
    "### Step 2 : Check whether missing values are present or not"
   ]
  },
  {
   "cell_type": "code",
   "execution_count": 2,
   "id": "3942a45a-cb70-45e4-a0dc-ca0aba5cd278",
   "metadata": {},
   "outputs": [],
   "source": [
    "# check whether 9999(which is considered as missing value) is in the dataframe\n",
    "\n",
    "checked_df = df.isin([9999])"
   ]
  },
  {
   "cell_type": "markdown",
   "id": "70386f4c-dada-44b8-94c1-63150af9ab11",
   "metadata": {},
   "source": [
    "### Step 3 : Replace missing values in the dataframe with NaN"
   ]
  },
  {
   "cell_type": "code",
   "execution_count": 3,
   "id": "7bb263ac-a377-41a3-b27d-6bb9c15e6c02",
   "metadata": {},
   "outputs": [],
   "source": [
    "# Replace missing values with numpy NaN\n",
    "\n",
    "import numpy as np\n",
    "df.replace(9999, np.nan, inplace=True)"
   ]
  },
  {
   "cell_type": "markdown",
   "id": "8367f258-e549-4e00-b460-77adac9848fa",
   "metadata": {},
   "source": [
    "### Step 4 : Perform various Imputation Techniques on the data"
   ]
  },
  {
   "cell_type": "markdown",
   "id": "d341e803-fa1e-4de3-a262-b6f4805f767a",
   "metadata": {},
   "source": [
    "####  Replace missing values(NaN) with zero/any constant value"
   ]
  },
  {
   "cell_type": "code",
   "execution_count": 4,
   "id": "10b8cf69-1ace-4809-b891-d0652395257a",
   "metadata": {
    "tags": []
   },
   "outputs": [],
   "source": [
    "# create a copy of dataframe and perform imputation on the copied dataframe \n",
    "cp_df = df.copy()\n",
    "cp_df.fillna(0, inplace=True)"
   ]
  },
  {
   "cell_type": "markdown",
   "id": "90bdbacd-d801-47e2-ac6a-1900ebfafc01",
   "metadata": {},
   "source": [
    "### Step 5 :  Applying Mean Imputation technique to replace missing values "
   ]
  },
  {
   "cell_type": "code",
   "execution_count": 5,
   "id": "93119ab3-a86a-46e1-a869-510d990717cc",
   "metadata": {},
   "outputs": [],
   "source": [
    "#Impute the values using scikit-learn SimpleImpute Class - mean strategy\n",
    "\n",
    "from sklearn.impute import SimpleImputer\n",
    "\n",
    "mean_imputer = SimpleImputer(strategy='mean')\n",
    "mean_imputed_df = df.copy()\n",
    "mean_imputed_df[['4.0']] = mean_imputer.fit_transform(mean_imputed_df[['4.0']])"
   ]
  },
  {
   "cell_type": "markdown",
   "id": "f31347db-1a42-4c58-812e-53a51e631a66",
   "metadata": {},
   "source": [
    "### Step 6 : Applying Most Frequent Imputation technique to replace missing values "
   ]
  },
  {
   "cell_type": "code",
   "execution_count": 6,
   "id": "71cb60a7-2d26-4b7f-be73-0152000fcdce",
   "metadata": {},
   "outputs": [],
   "source": [
    "#Impute the values using scikit-learn SimpleImpute Class - most frequent strategy\n",
    "\n",
    "mean_imputer = SimpleImputer(strategy='most_frequent')\n",
    "mean_imputed_df = df.copy()\n",
    "mean_imputed_df[['4.0']] = mean_imputer.fit_transform(mean_imputed_df[['4.0']])"
   ]
  },
  {
   "cell_type": "markdown",
   "id": "90f05676-f384-4447-be4d-7a0c99bd1d5d",
   "metadata": {},
   "source": [
    "### Step 7: Apply Linear Regression to Replace missing values"
   ]
  },
  {
   "cell_type": "code",
   "execution_count": 7,
   "id": "a5e1a232-7cad-483e-9f8b-861ba8e3a078",
   "metadata": {},
   "outputs": [],
   "source": [
    "from sklearn.impute import SimpleImputer\n",
    "from sklearn.linear_model import LinearRegression\n",
    "\n",
    "# Assuming you have a DataFrame df with missing values (NaN)\n",
    "df_missing = df[df.isnull().any(axis=1)]\n",
    "df_not_missing = df[~df.isnull().any(axis=1)]\n",
    "\n",
    "# Define and fit an imputer\n",
    "imputer = SimpleImputer(strategy='mean')\n",
    "\n",
    "# Define X_train and X_test based on your data\n",
    "X_train = df_not_missing[['4.0']]  # Adjust the column name\n",
    "X_test = df_missing[['4.0']]  # Adjust the column name\n",
    "\n",
    "# Define y_train based on your data\n",
    "y_train = df_not_missing['4.0']  # Adjust the column name\n",
    "\n",
    "# Fit the imputer and transform the training and testing data\n",
    "X_train_imputed = imputer.fit_transform(X_train)\n",
    "X_test_imputed = imputer.transform(X_test)\n",
    "\n",
    "# Train the LinearRegression model\n",
    "model = LinearRegression()\n",
    "model.fit(X_train_imputed, y_train)\n",
    "\n",
    "# Predict with the imputed data\n",
    "y_pred = model.predict(X_test_imputed)\n",
    "\n",
    "# Update the DataFrame with the predicted values\n",
    "df.loc[df.isnull().any(axis=1), '4.0'] = y_pred\n"
   ]
  }
 ],
 "metadata": {
  "kernelspec": {
   "display_name": "Python 3 (ipykernel)",
   "language": "python",
   "name": "python3"
  },
  "language_info": {
   "codemirror_mode": {
    "name": "ipython",
    "version": 3
   },
   "file_extension": ".py",
   "mimetype": "text/x-python",
   "name": "python",
   "nbconvert_exporter": "python",
   "pygments_lexer": "ipython3",
   "version": "3.10.12"
  }
 },
 "nbformat": 4,
 "nbformat_minor": 5
}
