{
  "nbformat": 4,
  "nbformat_minor": 0,
  "metadata": {
    "colab": {
      "provenance": [],
      "mount_file_id": "1msY8dTE4LL9YlsDX80XZOHEqGVYHbJFq",
      "authorship_tag": "ABX9TyMaMsEUYxtiUeEyaIua3YB1",
      "include_colab_link": true
    },
    "kernelspec": {
      "name": "python3",
      "display_name": "Python 3"
    },
    "language_info": {
      "name": "python"
    }
  },
  "cells": [
    {
      "cell_type": "markdown",
      "metadata": {
        "id": "view-in-github",
        "colab_type": "text"
      },
      "source": [
        "<a href=\"https://colab.research.google.com/github/WAKATSUKIYuya/s1290229/blob/main/ex02.ipynb\" target=\"_parent\"><img src=\"https://colab.research.google.com/assets/colab-badge.svg\" alt=\"Open In Colab\"/></a>"
      ]
    },
    {
      "cell_type": "markdown",
      "source": [
        "# Topic 1: Basic Syntax for Markdown\n",
        "## 1. Putting Headings:\n",
        "  Select Markdown option instead of code and execute the cell."
      ],
      "metadata": {
        "id": "NpM7IYbYeh3J"
      }
    },
    {
      "cell_type": "code",
      "execution_count": null,
      "metadata": {
        "id": "wE-AXLDud7OW"
      },
      "outputs": [],
      "source": [
        "# Heading level 1\n",
        "## Heading level 2\n",
        "### Heading level 3\n",
        "#### Heading level 4\n",
        "##### Heading level 5\n",
        "###### Heading level 6\n",
        "\n",
        "\n",
        "# Write the above lines in a cell, choose the markdown instead of Code in\n",
        "# compile the markdown and print below code.  DO NOT WRITE THESE LINES TO"
      ]
    },
    {
      "cell_type": "markdown",
      "source": [
        "# Heading level 1\n",
        "## Heading level 2\n",
        "### Heading level 3\n",
        "#### Heading level 4\n",
        "##### Heading level 5\n",
        "###### Heading level 6\n"
      ],
      "metadata": {
        "id": "8vOR3nSQfHfX"
      }
    },
    {
      "cell_type": "markdown",
      "source": [
        "## 2. Writing Bold letters\n",
        "### remove # in the below text for markdown"
      ],
      "metadata": {
        "id": "cPW1IeNzfVKL"
      }
    },
    {
      "cell_type": "code",
      "source": [
        "# __two underscores before and after the text__"
      ],
      "metadata": {
        "id": "oMJKqnq-fiVQ"
      },
      "execution_count": null,
      "outputs": []
    },
    {
      "cell_type": "markdown",
      "source": [
        " __two underscores before and after the text__"
      ],
      "metadata": {
        "id": "vlTAlwSifmGD"
      }
    },
    {
      "cell_type": "markdown",
      "source": [
        "## 3. Writing italic letters"
      ],
      "metadata": {
        "id": "4Uczh0ZafuwX"
      }
    },
    {
      "cell_type": "code",
      "source": [
        "# _single underscore before and after the text_"
      ],
      "metadata": {
        "id": "mLxtga2yfy0v"
      },
      "execution_count": null,
      "outputs": []
    },
    {
      "cell_type": "markdown",
      "source": [
        " _single underscore before and after the text_"
      ],
      "metadata": {
        "id": "Wp7F6IrGf2C8"
      }
    },
    {
      "cell_type": "markdown",
      "source": [
        "## 4. Dotted Points"
      ],
      "metadata": {
        "id": "8LDaXzbwf4hu"
      }
    },
    {
      "cell_type": "code",
      "source": [
        "# - Dash before text\n",
        "# - will print the text\n",
        "# - with numbered point"
      ],
      "metadata": {
        "id": "puMg19kPf8qN"
      },
      "execution_count": null,
      "outputs": []
    },
    {
      "cell_type": "markdown",
      "source": [
        " - Dash before text\n",
        " - will print the text\n",
        " - with numbered point"
      ],
      "metadata": {
        "id": "pT1gnOWygC5B"
      }
    },
    {
      "cell_type": "markdown",
      "source": [
        "## 5. Numbered points"
      ],
      "metadata": {
        "id": "krxem_oEgF3Y"
      }
    },
    {
      "cell_type": "code",
      "source": [
        "# 1. sample\n",
        "# 2. text\n",
        "# 3. test"
      ],
      "metadata": {
        "id": "A5zJGrs6gKFI"
      },
      "execution_count": null,
      "outputs": []
    },
    {
      "cell_type": "markdown",
      "source": [
        " 1. sample\n",
        " 2. text\n",
        " 3. test"
      ],
      "metadata": {
        "id": "BlQ28IAJgMlV"
      }
    },
    {
      "cell_type": "markdown",
      "source": [
        "## 6. Creating Tables:"
      ],
      "metadata": {
        "id": "Eo09EvESgPx8"
      }
    },
    {
      "cell_type": "code",
      "source": [
        "# | Heading 1   | Heading 2   |\n",
        "# | ----------- | ----------- |\n",
        "# | 1      | xx      |\n",
        "# | 2      | yy   |"
      ],
      "metadata": {
        "id": "mnwcQuPBgTeX"
      },
      "execution_count": null,
      "outputs": []
    },
    {
      "cell_type": "markdown",
      "source": [
        " | Heading 1   | Heading 2   |\n",
        " | ----------- | ----------- |\n",
        " | 1      | xx      |\n",
        " | 2      | yy   |"
      ],
      "metadata": {
        "id": "lUCackB9gWbS"
      }
    },
    {
      "cell_type": "markdown",
      "source": [
        "## 7. Images:"
      ],
      "metadata": {
        "id": "Ozr_5Tg_gaBw"
      }
    },
    {
      "cell_type": "code",
      "source": [
        "# ![Apple](apple_image.jpg)"
      ],
      "metadata": {
        "id": "wISHf8TWge_b"
      },
      "execution_count": 1,
      "outputs": []
    },
    {
      "cell_type": "markdown",
      "source": [
        " ![Apple](apple_image.jpg)"
      ],
      "metadata": {
        "id": "_-2HBbhzghkx"
      }
    },
    {
      "cell_type": "markdown",
      "source": [
        "## 8. Underscore text"
      ],
      "metadata": {
        "id": "seQM5-CnglGF"
      }
    },
    {
      "cell_type": "code",
      "source": [
        "# <u>Underscore text </u>"
      ],
      "metadata": {
        "id": "8DWWiipghg8n"
      },
      "execution_count": null,
      "outputs": []
    },
    {
      "cell_type": "markdown",
      "source": [
        " <u>Underscore text </u>"
      ],
      "metadata": {
        "id": "ztAKCOhXhjWV"
      }
    },
    {
      "cell_type": "markdown",
      "source": [
        "## 9. Horizontal line"
      ],
      "metadata": {
        "id": "qYF9pmuFhlAk"
      }
    },
    {
      "cell_type": "code",
      "source": [
        "# ***"
      ],
      "metadata": {
        "id": "lrVOEyXPhoJH"
      },
      "execution_count": null,
      "outputs": []
    },
    {
      "cell_type": "markdown",
      "source": [
        " ***"
      ],
      "metadata": {
        "id": "tSSpQtG3hqz1"
      }
    },
    {
      "cell_type": "code",
      "source": [],
      "metadata": {
        "id": "bK4Rf3iJhvnO"
      },
      "execution_count": null,
      "outputs": []
    },
    {
      "cell_type": "markdown",
      "source": [
        "# Topic 2: Basic Python Programming\n",
        "## Step 1: print \"Hello World\""
      ],
      "metadata": {
        "id": "Lh5DzrYrhtQI"
      }
    },
    {
      "cell_type": "code",
      "source": [
        "print(\"Hello World\")"
      ],
      "metadata": {
        "colab": {
          "base_uri": "https://localhost:8080/"
        },
        "id": "e0eB4f4Wh_4L",
        "outputId": "441a8278-0c97-4bf6-9869-93cd3a873762"
      },
      "execution_count": 1,
      "outputs": [
        {
          "output_type": "stream",
          "name": "stdout",
          "text": [
            "Hello World\n"
          ]
        }
      ]
    },
    {
      "cell_type": "markdown",
      "source": [
        "## Step 2: Create a Numeric Variable"
      ],
      "metadata": {
        "id": "Ojq5gsOoiFN8"
      }
    },
    {
      "cell_type": "code",
      "source": [
        "a = 10"
      ],
      "metadata": {
        "id": "wD1JNNEciJ8j"
      },
      "execution_count": 2,
      "outputs": []
    },
    {
      "cell_type": "markdown",
      "source": [
        "## Step 3: Print above created variable"
      ],
      "metadata": {
        "id": "zZ6PIWyEiLpd"
      }
    },
    {
      "cell_type": "code",
      "source": [
        "print(a)"
      ],
      "metadata": {
        "colab": {
          "base_uri": "https://localhost:8080/"
        },
        "id": "9FYwK5WYiRDu",
        "outputId": "7ca6007c-20f4-4e6a-f9aa-c7dee00e31fb"
      },
      "execution_count": 3,
      "outputs": [
        {
          "output_type": "stream",
          "name": "stdout",
          "text": [
            "10\n"
          ]
        }
      ]
    },
    {
      "cell_type": "markdown",
      "source": [
        "## Step 4: Print the type of above variable"
      ],
      "metadata": {
        "id": "tBXEwHtuiS5x"
      }
    },
    {
      "cell_type": "code",
      "source": [
        "print(type(a))"
      ],
      "metadata": {
        "colab": {
          "base_uri": "https://localhost:8080/"
        },
        "id": "MIgVhj5XiY_9",
        "outputId": "8c4aa399-01e6-43e9-a4b9-780fcadae968"
      },
      "execution_count": 4,
      "outputs": [
        {
          "output_type": "stream",
          "name": "stdout",
          "text": [
            "<class 'int'>\n"
          ]
        }
      ]
    },
    {
      "cell_type": "markdown",
      "source": [
        "## Step 5: Create a String Variable & Print"
      ],
      "metadata": {
        "id": "5FpO_7tEibjs"
      }
    },
    {
      "cell_type": "code",
      "source": [
        "string = \"Hello\""
      ],
      "metadata": {
        "id": "MZMSDMsrigye"
      },
      "execution_count": 5,
      "outputs": []
    },
    {
      "cell_type": "markdown",
      "source": [
        "### Step 5.1: Access 2nd element in above string"
      ],
      "metadata": {
        "id": "pgUN8QxfikrQ"
      }
    },
    {
      "cell_type": "code",
      "source": [
        "print(string[1])"
      ],
      "metadata": {
        "colab": {
          "base_uri": "https://localhost:8080/"
        },
        "id": "Yz44AV7jisv5",
        "outputId": "2f47df49-4ad8-4364-ecc2-34199de287d3"
      },
      "execution_count": 6,
      "outputs": [
        {
          "output_type": "stream",
          "name": "stdout",
          "text": [
            "e\n"
          ]
        }
      ]
    },
    {
      "cell_type": "markdown",
      "source": [
        "### Step 5.2: Find the length of above string"
      ],
      "metadata": {
        "id": "6hvUFkRfi1Rb"
      }
    },
    {
      "cell_type": "code",
      "source": [
        "print(len(string))"
      ],
      "metadata": {
        "colab": {
          "base_uri": "https://localhost:8080/"
        },
        "id": "IIcig8xPi6TE",
        "outputId": "7620cf07-07f0-4f6e-e929-88031e69a714"
      },
      "execution_count": 7,
      "outputs": [
        {
          "output_type": "stream",
          "name": "stdout",
          "text": [
            "5\n"
          ]
        }
      ]
    },
    {
      "cell_type": "markdown",
      "source": [
        "### Step 5.3: Create another String and compare the strings."
      ],
      "metadata": {
        "id": "ayCk6tSNi97Y"
      }
    },
    {
      "cell_type": "code",
      "source": [
        "string2 = \"World\"\n",
        "if string == string2:\n",
        "  print(\"Both Strings are same.\")\n",
        "else:\n",
        "  print(\"Both Strings are not same.\")"
      ],
      "metadata": {
        "colab": {
          "base_uri": "https://localhost:8080/"
        },
        "id": "TrGIyMu4jGj9",
        "outputId": "b4a63fd3-625e-493d-a904-a4e8a5a321c1"
      },
      "execution_count": 9,
      "outputs": [
        {
          "output_type": "stream",
          "name": "stdout",
          "text": [
            "Both Strings are not same.\n"
          ]
        }
      ]
    },
    {
      "cell_type": "markdown",
      "source": [
        "### Step 5.4: Perform Concatenation operation"
      ],
      "metadata": {
        "id": "bt1jh_6LjWQ7"
      }
    },
    {
      "cell_type": "code",
      "source": [
        "string3 = string + string2\n",
        "print(string3)"
      ],
      "metadata": {
        "colab": {
          "base_uri": "https://localhost:8080/"
        },
        "id": "EdzSB4eDjb-H",
        "outputId": "80bf5d2f-5da6-4501-980c-4a3149825e3d"
      },
      "execution_count": 10,
      "outputs": [
        {
          "output_type": "stream",
          "name": "stdout",
          "text": [
            "HelloWorld\n"
          ]
        }
      ]
    },
    {
      "cell_type": "markdown",
      "source": [
        "## Step 6: Create a list"
      ],
      "metadata": {
        "id": "tIy-4sMijkHC"
      }
    },
    {
      "cell_type": "code",
      "source": [
        "sampleList = [3, 5, 6, 18, 10]"
      ],
      "metadata": {
        "id": "9Fm4F1zSjnzI"
      },
      "execution_count": 11,
      "outputs": []
    },
    {
      "cell_type": "markdown",
      "source": [
        "### Step 6.1: Find the length of above list"
      ],
      "metadata": {
        "id": "eFvFnG99jtOL"
      }
    },
    {
      "cell_type": "code",
      "source": [
        "print(len(sampleList))"
      ],
      "metadata": {
        "colab": {
          "base_uri": "https://localhost:8080/"
        },
        "id": "gm5kOUcxjzR1",
        "outputId": "c67a433b-f314-41bb-cd9b-5993a5f354ec"
      },
      "execution_count": 12,
      "outputs": [
        {
          "output_type": "stream",
          "name": "stdout",
          "text": [
            "5\n"
          ]
        }
      ]
    },
    {
      "cell_type": "markdown",
      "source": [
        "### Step 6.2: Iterate above list using for loop"
      ],
      "metadata": {
        "id": "FXiR7nXUj2cA"
      }
    },
    {
      "cell_type": "code",
      "source": [
        "for i in sampleList:\n",
        "  print(i)"
      ],
      "metadata": {
        "colab": {
          "base_uri": "https://localhost:8080/"
        },
        "id": "HKa8SeQOj7-t",
        "outputId": "4894d38d-2d83-417d-e186-74ea0f5eb6f3"
      },
      "execution_count": 13,
      "outputs": [
        {
          "output_type": "stream",
          "name": "stdout",
          "text": [
            "3\n",
            "5\n",
            "6\n",
            "18\n",
            "10\n"
          ]
        }
      ]
    },
    {
      "cell_type": "markdown",
      "source": [
        "### Step 6.3: Add another element in to above list"
      ],
      "metadata": {
        "id": "mJqxe7-nkB22"
      }
    },
    {
      "cell_type": "code",
      "source": [
        "sampleList.append(22)"
      ],
      "metadata": {
        "id": "3PXco1dXkHcc"
      },
      "execution_count": 14,
      "outputs": []
    },
    {
      "cell_type": "markdown",
      "source": [
        "### Step 6.4: Remove one element from above list"
      ],
      "metadata": {
        "id": "Fp1m6jQ4kJre"
      }
    },
    {
      "cell_type": "code",
      "source": [
        "sampleList.remove(3)"
      ],
      "metadata": {
        "id": "EeiLLwgPkPkM"
      },
      "execution_count": 15,
      "outputs": []
    },
    {
      "cell_type": "markdown",
      "source": [
        "### Step 6.5: Find the minimum and maximum numbers exists in above list"
      ],
      "metadata": {
        "id": "VhkZB4uZkSfz"
      }
    },
    {
      "cell_type": "code",
      "source": [
        "print(min(sampleList))\n",
        "print(max(sampleList))"
      ],
      "metadata": {
        "colab": {
          "base_uri": "https://localhost:8080/"
        },
        "id": "IaHlA8EukZcr",
        "outputId": "9c9661b3-0f2d-43b1-ca33-56fae16b4868"
      },
      "execution_count": 16,
      "outputs": [
        {
          "output_type": "stream",
          "name": "stdout",
          "text": [
            "5\n",
            "22\n"
          ]
        }
      ]
    },
    {
      "cell_type": "markdown",
      "source": [
        "## Step 7: Getting input as a string from User"
      ],
      "metadata": {
        "id": "AxMp7INdkdFo"
      }
    },
    {
      "cell_type": "code",
      "source": [
        "name = input(\"Enter your name:\")"
      ],
      "metadata": {
        "colab": {
          "base_uri": "https://localhost:8080/"
        },
        "id": "Hh4-R7phkkaW",
        "outputId": "fcbae217-a7cf-42e4-b63e-12334e03dfa8"
      },
      "execution_count": 17,
      "outputs": [
        {
          "name": "stdout",
          "output_type": "stream",
          "text": [
            "Enter your name:Likhitha\n"
          ]
        }
      ]
    },
    {
      "cell_type": "markdown",
      "source": [
        "## Step 8: Displaying output: string"
      ],
      "metadata": {
        "id": "I5nGb8fMkoMS"
      }
    },
    {
      "cell_type": "code",
      "source": [
        "print(\"Hello \" + name + \" ! \")"
      ],
      "metadata": {
        "colab": {
          "base_uri": "https://localhost:8080/"
        },
        "id": "3x_DxsnNktPH",
        "outputId": "7055a166-d9e8-4678-d783-6c9c1de7e742"
      },
      "execution_count": 18,
      "outputs": [
        {
          "output_type": "stream",
          "name": "stdout",
          "text": [
            "Hello Likhitha ! \n"
          ]
        }
      ]
    },
    {
      "cell_type": "markdown",
      "source": [
        "## Step 9: Getting input as a int from User"
      ],
      "metadata": {
        "id": "Fjx0uWqdkv3y"
      }
    },
    {
      "cell_type": "code",
      "source": [
        "num = int(input(\"Enter a number: \"))"
      ],
      "metadata": {
        "colab": {
          "base_uri": "https://localhost:8080/"
        },
        "id": "Rqcy_WuNk0qT",
        "outputId": "b1c6437a-39a5-49b3-a4fb-8530e988def3"
      },
      "execution_count": 19,
      "outputs": [
        {
          "name": "stdout",
          "output_type": "stream",
          "text": [
            "Enter a number: 360\n"
          ]
        }
      ]
    },
    {
      "cell_type": "markdown",
      "source": [
        "## Step 10: Display the input"
      ],
      "metadata": {
        "id": "HZ7nO-3qk2_e"
      }
    },
    {
      "cell_type": "code",
      "source": [
        "print(num)"
      ],
      "metadata": {
        "colab": {
          "base_uri": "https://localhost:8080/"
        },
        "id": "yOm26O6Bk7gg",
        "outputId": "cab88e1f-196b-4311-877a-0717b5c5b54c"
      },
      "execution_count": 20,
      "outputs": [
        {
          "output_type": "stream",
          "name": "stdout",
          "text": [
            "360\n"
          ]
        }
      ]
    },
    {
      "cell_type": "markdown",
      "source": [
        "## Step 11: Different ways to print int and string"
      ],
      "metadata": {
        "id": "PrR-2UJCk-AL"
      }
    },
    {
      "cell_type": "code",
      "source": [
        "a = 20\n",
        "b = 10\n",
        "\n",
        "sum = a + b\n",
        "\n",
        "\n",
        "# Several ways to print\n",
        "print(\"The total sum of values a and b is: {}\".format(sum))\n",
        "print(\"The total sum of values a and b is: %d\" %sum)\n",
        "print(\"The total sum of values a and b is:\", sum)"
      ],
      "metadata": {
        "colab": {
          "base_uri": "https://localhost:8080/"
        },
        "id": "ApAwggeMlC_K",
        "outputId": "daf6f4c3-3230-44c2-8145-6fc4be9be4ac"
      },
      "execution_count": 21,
      "outputs": [
        {
          "output_type": "stream",
          "name": "stdout",
          "text": [
            "The total sum of values a and b is: 30\n",
            "The total sum of values a and b is: 30\n",
            "The total sum of values a and b is: 30\n"
          ]
        }
      ]
    },
    {
      "cell_type": "markdown",
      "source": [
        "## Step 12: Getting multiple inputs from the user:"
      ],
      "metadata": {
        "id": "NWlG6zKRlROz"
      }
    },
    {
      "cell_type": "code",
      "source": [
        "a, b, c = input(\"Enter any three values: \").split()\n",
        "\n",
        "\n",
        "print(\"First number: \", a)\n",
        "print(\"Second number: \", b)\n",
        "print(\"Third number: \", c)"
      ],
      "metadata": {
        "colab": {
          "base_uri": "https://localhost:8080/"
        },
        "id": "hQJpF469lX20",
        "outputId": "32fb64d2-e4f9-4def-ce56-8207db8f6a55"
      },
      "execution_count": 22,
      "outputs": [
        {
          "output_type": "stream",
          "name": "stdout",
          "text": [
            "Enter any three values: 1 2 3\n",
            "First number:  1\n",
            "Second number:  2\n",
            "Third number:  3\n"
          ]
        }
      ]
    },
    {
      "cell_type": "markdown",
      "source": [
        "## Step 13: Define a function using \"def\""
      ],
      "metadata": {
        "id": "mCd6wfxrldkK"
      }
    },
    {
      "cell_type": "code",
      "source": [
        "def HelloWorld():\n",
        "  print(\"Hello World\")"
      ],
      "metadata": {
        "id": "uFdNmiTfljCp"
      },
      "execution_count": 23,
      "outputs": []
    },
    {
      "cell_type": "markdown",
      "source": [
        "## Step 14: Call the above function"
      ],
      "metadata": {
        "id": "UYbjTtaYlmjK"
      }
    },
    {
      "cell_type": "code",
      "source": [
        "HelloWorld()"
      ],
      "metadata": {
        "colab": {
          "base_uri": "https://localhost:8080/"
        },
        "id": "kuvVxpZplqHq",
        "outputId": "9887b5dd-c96e-4598-f319-9be5349f7eb6"
      },
      "execution_count": 24,
      "outputs": [
        {
          "output_type": "stream",
          "name": "stdout",
          "text": [
            "Hello World\n"
          ]
        }
      ]
    },
    {
      "cell_type": "code",
      "source": [],
      "metadata": {
        "id": "VdIsPKrBltjo"
      },
      "execution_count": null,
      "outputs": []
    },
    {
      "cell_type": "markdown",
      "source": [
        "# Topic 3: Advanced Python Programming\n",
        "## 1. pip install Command:"
      ],
      "metadata": {
        "id": "qGNcHvASlvHC"
      }
    },
    {
      "cell_type": "code",
      "source": [
        "## Syntax: !pip install package-name\n",
        "\n",
        "Example: !pip install pami"
      ],
      "metadata": {
        "id": "qoR2qy6vl5FZ"
      },
      "execution_count": null,
      "outputs": []
    },
    {
      "cell_type": "markdown",
      "source": [
        "## 2. Reading and Processing .CSV file:"
      ],
      "metadata": {
        "id": "7vLrTXtbl_Uj"
      }
    },
    {
      "cell_type": "code",
      "source": [
        "# Reading a .csv file\n",
        "import csv\n",
        "file = open('fileName.csv')\n",
        "csvreader = csv.reader(file)\n",
        "\n",
        "\n",
        "# Printing Column names in csv file\n",
        "header = next(csvreader)\n",
        "print(header)"
      ],
      "metadata": {
        "id": "mUDcs_32mHME"
      },
      "execution_count": null,
      "outputs": []
    },
    {
      "cell_type": "markdown",
      "source": [
        "## 3. Reading CSV with pandas:"
      ],
      "metadata": {
        "id": "HPESf0_OmOf3"
      }
    },
    {
      "cell_type": "code",
      "source": [
        "# Reading csv file into a dataframe\n",
        "import pandas as pd\n",
        "df = pd.read_csv('inputFileName.csv')\n",
        "# If you get error to open the file using the above code give absolute pa # df = pd.read_csv('Exercise_1/inputFileName.csv')\n",
        "# You can get absolute path by right click -> copy path.\n",
        "\n",
        "# Printing the first rows of dataframe\n",
        "print(df.head())\n",
        "\n",
        "# Printing the column names\n",
        "print(df.columns)\n",
        "\n",
        "# Dropping columns from dataframe\n",
        "print(df.drop('stationId', axis=1))\n",
        "\n",
        "# Printing number of rows and columns in dataframe\n",
        "print(df.shape)"
      ],
      "metadata": {
        "id": "TqBYd_1KmS2w"
      },
      "execution_count": null,
      "outputs": []
    },
    {
      "cell_type": "markdown",
      "source": [
        "## 4. How to add code description?"
      ],
      "metadata": {
        "id": "6l5yUtCbmdrs"
      }
    },
    {
      "cell_type": "code",
      "source": [
        "# Add the description about the code using comments.\n",
        "def hello_world():\n",
        "  # A simple comment preceding a simple print statement\n",
        "  print(\"Hello World\")"
      ],
      "metadata": {
        "id": "4Ta1wYJnmh3N"
      },
      "execution_count": null,
      "outputs": []
    }
  ]
}